{
 "cells": [
  {
   "cell_type": "code",
   "execution_count": 2,
   "metadata": {
    "tags": [],
    "pycharm": {
     "name": "#%%\n"
    }
   },
   "outputs": [],
   "source": [
    "import os\n",
    "os.chdir(\"..\")\n",
    "\n",
    "import numpy as np\n",
    "import pandas as pd\n",
    "from PIL import Image\n",
    "\n",
    "from glob import glob\n",
    "\n",
    "from lib import *\n",
    "\n",
    "%matplotlib inline"
   ]
  },
  {
   "cell_type": "code",
   "execution_count": 4,
   "metadata": {
    "tags": []
   },
   "outputs": [],
   "source": [
    "path = \"data/train\"\n",
    "images = os.listdir(path)\n",
    "ind = np.random.choice(images).split(\".\")[0]\n",
    "\n",
    "img = np.array(Image.open(f\"{path}/{ind}.jpg\"))\n",
    "mask = np.array(Image.open(f\"{path}_mask/{ind}.png\"))"
   ]
  },
  {
   "cell_type": "code",
   "execution_count": 5,
   "metadata": {
    "tags": [],
    "pycharm": {
     "name": "#%%\n"
    }
   },
   "outputs": [],
   "source": [
    "import albumentations as A\n",
    "from albumentations.pytorch import ToTensorV2\n",
    "import torch\n",
    "from torch.utils.data import Dataset, DataLoader"
   ]
  },
  {
   "cell_type": "code",
   "execution_count": 6,
   "metadata": {
    "tags": []
   },
   "outputs": [],
   "source": [
    "X_train = []\n",
    "y_train = []\n",
    "X_val = []\n",
    "y_val = []\n",
    "X_test = []\n",
    "\n",
    "train_prefix = \"data/train\"\n",
    "for image_name in os.listdir(train_prefix):\n",
    "    ind = image_name.split('.')[0]\n",
    "    image = np.array(Image.open(f\"{train_prefix}/{ind}.jpg\"))\n",
    "    mask = np.array(Image.open(f\"{train_prefix}_mask/{ind}.png\"))\n",
    "    X_train.append(image)\n",
    "    y_train.append(mask)\n",
    "    \n",
    "val_prefix = \"data/valid\"\n",
    "for image_name in os.listdir(val_prefix):\n",
    "    ind = image_name.split('.')[0]\n",
    "    image = np.array(Image.open(f\"{val_prefix}/{ind}.jpg\"))\n",
    "    mask = np.array(Image.open(f\"{val_prefix}_mask/{ind}.png\"))\n",
    "    X_val.append(image)\n",
    "    y_val.append(mask)\n",
    "    \n",
    "\n",
    "test_prefix = \"data/test\"\n",
    "for image_name in sorted(os.listdir(test_prefix)):\n",
    "    ind = image_name.split('.')[0]\n",
    "    image = np.array(Image.open(f\"{test_prefix}/{ind}.jpg\"))\n",
    "    X_test.append(image)"
   ]
  },
  {
   "cell_type": "code",
   "execution_count": 7,
   "metadata": {
    "tags": []
   },
   "outputs": [],
   "source": [
    "class MILDataset(Dataset):\n",
    "    def __init__(self, X, y, transform=None):\n",
    "        super().__init__()\n",
    "        self.images = X\n",
    "        self.masks = y\n",
    "        self.transform = transform\n",
    "        \n",
    "    def __len__(self):\n",
    "        return len(self.images)\n",
    "    \n",
    "    def __getitem__(self, idx):\n",
    "        if self.transform is not None:\n",
    "            tr = self.transform(image=self.images[idx], mask=self.masks[idx])\n",
    "            # albumentations has a different mask format\n",
    "            image, mask = tr['image'], tr['mask']\n",
    "            mask = mask.double()\n",
    "            mask /= mask.max()\n",
    "            return image, mask.unsqueeze(0)\n",
    "        return self.images[idx], self.masks[idx]\n",
    "\n",
    "\n",
    "class MILDatasetTest(Dataset):\n",
    "    def __init__(self, X, transform=None):\n",
    "        super().__init__()\n",
    "        self.images = X\n",
    "        self.transform = transform\n",
    "        \n",
    "    def __len__(self):\n",
    "        return len(self.images)\n",
    "    \n",
    "    def __getitem__(self, idx):\n",
    "        if self.transform is not None:\n",
    "            tr = self.transform(image=self.images[idx])\n",
    "            image = tr['image']\n",
    "            return image\n",
    "        return self.images[idx]"
   ]
  },
  {
   "cell_type": "code",
   "execution_count": 8,
   "metadata": {
    "tags": [],
    "pycharm": {
     "name": "#%%\n"
    }
   },
   "outputs": [],
   "source": [
    "h, w = X_val[0].shape[:2]\n",
    "# I use Albumentations for it's speed and ability to work with masks\n",
    "train_aug = A.Compose([\n",
    "    A.HorizontalFlip(),\n",
    "    A.Perspective(),\n",
    "    A.RandomResizedCrop(h, w, scale=(0.9, 1)),\n",
    "    A.Normalize(always_apply=True),\n",
    "    ToTensorV2(),\n",
    "])\n",
    "val_aug = A.Compose([\n",
    "    A.Normalize(always_apply=True), \n",
    "    ToTensorV2(),\n",
    "])"
   ]
  },
  {
   "cell_type": "code",
   "execution_count": 9,
   "metadata": {
    "tags": []
   },
   "outputs": [],
   "source": [
    "train_dataset = MILDataset(X_train, y_train, transform=train_aug)\n",
    "train_dataloader = DataLoader(train_dataset, batch_size=48, shuffle=True, pin_memory=True)\n",
    "val_dataset = MILDataset(X_val, y_val, transform=val_aug)\n",
    "val_dataloader = DataLoader(val_dataset, batch_size=48, shuffle=False, pin_memory=True)\n",
    "test_dataset = MILDatasetTest(X_test, transform=val_aug)\n",
    "test_dataloader = DataLoader(test_dataset, batch_size=48, shuffle=False, pin_memory=True)"
   ]
  },
  {
   "cell_type": "code",
   "execution_count": 10,
   "metadata": {
    "tags": [],
    "pycharm": {
     "name": "#%%\n"
    }
   },
   "outputs": [],
   "source": [
    "device = torch.device('cuda' if torch.cuda.is_available() else 'cpu')\n",
    "model = PSPNet().to(device)\n",
    "# We are optimizing for Dice, so it is natural to use soft-dice loss.\n",
    "# It is a differentiable approximation to Dice coefficient\n",
    "criterion = soft_dice_loss\n",
    "optimizer = torch.optim.Adam(model.parameters(), lr=0.01)"
   ]
  },
  {
   "cell_type": "code",
   "execution_count": null,
   "metadata": {
    "tags": [],
    "pycharm": {
     "name": "#%%\n",
     "is_executing": true
    }
   },
   "outputs": [],
   "source": [
    "train(model, val_dataloader, val_dataloader, val_dataset, criterion, optimizer, device, n_epochs=2)"
   ]
  },
  {
   "cell_type": "markdown",
   "source": [
    "Примерно так будет выглядеть процесс обучения:\n",
    "\n",
    "<img src=\"https://i.imgur.com/yTHErot.png\" width=\"500\">"
   ],
   "metadata": {
    "collapsed": false,
    "pycharm": {
     "name": "#%% md\n"
    }
   }
  },
  {
   "cell_type": "markdown",
   "metadata": {},
   "source": [
    "Кажется, что можно еще пообучаться, но уже надо сдавать!"
   ]
  },
  {
   "cell_type": "code",
   "execution_count": 13,
   "outputs": [],
   "source": [
    "!mkdir results"
   ],
   "metadata": {
    "collapsed": false,
    "pycharm": {
     "name": "#%%\n"
    }
   }
  },
  {
   "cell_type": "code",
   "execution_count": 14,
   "metadata": {
    "execution": {
     "iopub.execute_input": "2022-04-26T11:41:00.740314Z",
     "iopub.status.busy": "2022-04-26T11:41:00.739971Z",
     "iopub.status.idle": "2022-04-26T11:41:00.854883Z",
     "shell.execute_reply": "2022-04-26T11:41:00.853788Z",
     "shell.execute_reply.started": "2022-04-26T11:41:00.740284Z"
    },
    "pycharm": {
     "name": "#%%\n"
    }
   },
   "outputs": [],
   "source": [
    "torch.save(model.state_dict(), 'results/model_state_dict')"
   ]
  },
  {
   "cell_type": "code",
   "execution_count": 15,
   "metadata": {
    "execution": {
     "iopub.execute_input": "2022-04-26T11:49:03.579063Z",
     "iopub.status.busy": "2022-04-26T11:49:03.578389Z",
     "iopub.status.idle": "2022-04-26T11:49:04.310662Z",
     "shell.execute_reply": "2022-04-26T11:49:04.309685Z",
     "shell.execute_reply.started": "2022-04-26T11:49:03.579018Z"
    }
   },
   "outputs": [],
   "source": [
    "preds = predict_test(model, test_dataloader, device)\n",
    "preds = torch.cat(preds, 0)"
   ]
  },
  {
   "cell_type": "code",
   "execution_count": 16,
   "metadata": {
    "execution": {
     "iopub.execute_input": "2022-04-26T11:54:27.568137Z",
     "iopub.status.busy": "2022-04-26T11:54:27.567812Z",
     "iopub.status.idle": "2022-04-26T11:54:27.653615Z",
     "shell.execute_reply": "2022-04-26T11:54:27.652624Z",
     "shell.execute_reply.started": "2022-04-26T11:54:27.568102Z"
    }
   },
   "outputs": [],
   "source": [
    "result_data = {\n",
    "    'id': [],\n",
    "    'rle_mask': [],\n",
    "}\n",
    "for idx, img_name in enumerate(sorted(os.listdir(test_prefix))):\n",
    "    img_id = img_name.split('.')[0]\n",
    "    result_data['id'].append(img_id)\n",
    "    result_data['rle_mask'].append(encode_rle(preds[idx]))"
   ]
  },
  {
   "cell_type": "code",
   "execution_count": null,
   "outputs": [],
   "source": [
    "pred_test = pd.DataFrame(result_data)\n",
    "pred_test.to_csv('results/pred_test.csv')"
   ],
   "metadata": {
    "collapsed": false,
    "pycharm": {
     "name": "#%%\n"
    }
   }
  },
  {
   "cell_type": "markdown",
   "source": [
    "В задаче было написано сделать для валидационного (хотя кажется что нужен тренировочный), так что для валидационного я сделал аналогично"
   ],
   "metadata": {
    "collapsed": false,
    "pycharm": {
     "name": "#%% md\n"
    }
   }
  },
  {
   "cell_type": "code",
   "execution_count": 19,
   "metadata": {
    "execution": {
     "iopub.execute_input": "2022-04-26T12:02:02.533642Z",
     "iopub.status.busy": "2022-04-26T12:02:02.533345Z",
     "iopub.status.idle": "2022-04-26T12:02:05.358084Z",
     "shell.execute_reply": "2022-04-26T12:02:05.357010Z",
     "shell.execute_reply.started": "2022-04-26T12:02:02.533608Z"
    },
    "pycharm": {
     "name": "#%%\n"
    }
   },
   "outputs": [],
   "source": [
    "# multiply by 255 to get correct mask images\n",
    "html = get_html(sorted(glob('data/test/*')), preds.squeeze().int()*255, path_to_save='results/test')"
   ]
  },
  {
   "cell_type": "markdown",
   "source": [
    "Я обучал модель на kaggle, поэтому соберу HTML не из предсказаний, а по pred_test.csv"
   ],
   "metadata": {
    "collapsed": false,
    "pycharm": {
     "name": "#%% md\n"
    }
   }
  },
  {
   "cell_type": "code",
   "execution_count": 28,
   "outputs": [],
   "source": [
    "pred_test = pd.read_csv('results/pred_test.csv', index_col=0)"
   ],
   "metadata": {
    "collapsed": false,
    "pycharm": {
     "name": "#%%\n"
    }
   }
  },
  {
   "cell_type": "code",
   "execution_count": 31,
   "outputs": [],
   "source": [
    "preds = []\n",
    "for pred in pred_test.rle_mask:\n",
    "    preds.append(decode_rle(pred))"
   ],
   "metadata": {
    "collapsed": false,
    "pycharm": {
     "name": "#%%\n"
    }
   }
  },
  {
   "cell_type": "code",
   "execution_count": 36,
   "outputs": [],
   "source": [
    "html = get_html(sorted(glob('data/test/*')), np.stack(preds)*255, path_to_save='results/test')"
   ],
   "metadata": {
    "collapsed": false,
    "pycharm": {
     "name": "#%%\n"
    }
   }
  }
 ],
 "metadata": {
  "kernelspec": {
   "display_name": "Python 3 (ipykernel)",
   "language": "python",
   "name": "python3"
  },
  "language_info": {
   "codemirror_mode": {
    "name": "ipython",
    "version": 3
   },
   "file_extension": ".py",
   "mimetype": "text/x-python",
   "name": "python",
   "nbconvert_exporter": "python",
   "pygments_lexer": "ipython3",
   "version": "3.9.12"
  }
 },
 "nbformat": 4,
 "nbformat_minor": 4
}